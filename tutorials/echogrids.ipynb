{
 "cells": [
  {
   "cell_type": "code",
   "execution_count": 1,
   "id": "9f46fee5-7235-48a7-a273-c73ee37fe7d7",
   "metadata": {},
   "outputs": [
    {
     "data": {
      "text/plain": [
       "<module 'themachinethatgoesping.echogrids.functions.gridfunctions' from '/ssd/src/themachinethatgoesping/themachinethatgoesping/subprojects//echogrids/python/themachinethatgoesping/echogrids/functions/gridfunctions.py'>"
      ]
     },
     "execution_count": 1,
     "metadata": {},
     "output_type": "execute_result"
    }
   ],
   "source": [
    "import themachinethatgoesping as ping\n",
    "ping\n",
    "ping.echogrids\n",
    "ping.echogrids.functions\n",
    "ping.echogrids.functions.gridfunctions"
   ]
  },
  {
   "cell_type": "code",
   "execution_count": 2,
   "id": "6dea7558-4398-4034-81f4-7b0d6c8ff0ca",
   "metadata": {},
   "outputs": [
    {
     "name": "stdout",
     "output_type": "stream",
     "text": [
      "/ssd/local/lib/python3/dist-packages/themachinethatgoesping/tools.cpython-310-x86_64-linux-gnu.so\n",
      "/ssd/src/themachinethatgoesping/themachinethatgoesping/subprojects//tools/python/themachinethatgoesping/tools_ext/__init__.py\n",
      "/ssd/src/themachinethatgoesping/themachinethatgoesping/subprojects//echogrids/python/themachinethatgoesping/echogrids/__init__.py\n"
     ]
    }
   ],
   "source": [
    "print(ping.tools.__file__)\n",
    "print(ping.tools_ext.__file__)\n",
    "print(ping.echogrids.__file__)"
   ]
  },
  {
   "cell_type": "code",
   "execution_count": 3,
   "id": "37d4dc16-4804-4027-a78d-75088c0db4b3",
   "metadata": {},
   "outputs": [
    {
     "data": {
      "text/plain": [
       "['/ssd/local/lib/python3/dist-packages/themachinethatgoesping',\n",
       " '/ssd/src/themachinethatgoesping/themachinethatgoesping/subprojects//tools/python/themachinethatgoesping',\n",
       " '/ssd/src/themachinethatgoesping/themachinethatgoesping/subprojects//echogrids/python/themachinethatgoesping']"
      ]
     },
     "execution_count": 3,
     "metadata": {},
     "output_type": "execute_result"
    }
   ],
   "source": [
    "ping.__path__"
   ]
  },
  {
   "cell_type": "code",
   "execution_count": 4,
   "id": "5eb535c5-7c9c-431f-a6f4-5a96cbc4dc5d",
   "metadata": {},
   "outputs": [
    {
     "name": "stdout",
     "output_type": "stream",
     "text": [
      "/ssd/src/themachinethatgoesping/themachinethatgoesping/subprojects//tools/python/themachinethatgoesping/tools_ext/__init__.py\n",
      "Help on package themachinethatgoesping:\n",
      "\n",
      "NAME\n",
      "    themachinethatgoesping\n",
      "\n",
      "DESCRIPTION\n",
      "    themachinethatgoesping\n",
      "    **********************\n",
      "    Enable quantitative processing of multibeam and singlebeam echosounder systems\n",
      "\n",
      "PACKAGE CONTENTS\n",
      "    echogrids (package)\n",
      "    tools\n",
      "    tools_ext (package)\n",
      "\n",
      "DATA\n",
      "    pydev_install_module_paths = ['/ssd/local/lib/python3/dist-packages/th...\n",
      "    pydev_install_modules = ['tools', 'echogrids']\n",
      "    pydev_install_src_path = '/ssd/src/themachinethatgoesping/themachineth...\n",
      "\n",
      "FILE\n",
      "    /ssd/local/lib/python3/dist-packages/themachinethatgoesping/__init__.py\n",
      "\n",
      "\n"
     ]
    }
   ],
   "source": [
    "print(ping.tools_ext.__file__)\n",
    "help(ping)"
   ]
  },
  {
   "cell_type": "code",
   "execution_count": 5,
   "id": "005122be-915a-487a-b29b-78a5d4363f92",
   "metadata": {},
   "outputs": [
    {
     "data": {
      "text/plain": [
       "<module 'themachinethatgoesping.echogrids.functions.gridfunctions' from '/ssd/src/themachinethatgoesping/themachinethatgoesping/subprojects//echogrids/python/themachinethatgoesping/echogrids/functions/gridfunctions.py'>"
      ]
     },
     "execution_count": 5,
     "metadata": {},
     "output_type": "execute_result"
    }
   ],
   "source": [
    "import themachinethatgoesping.echogrids as echo\n",
    "echo\n",
    "echo.functions\n",
    "echo.functions.gridfunctions"
   ]
  },
  {
   "cell_type": "code",
   "execution_count": 6,
   "id": "9a30e750-ea59-4829-a27a-53759a3cd5b6",
   "metadata": {},
   "outputs": [
    {
     "data": {
      "text/plain": [
       "<module 'themachinethatgoesping.echogrids.functions.gridfunctions' from '/ssd/src/themachinethatgoesping/themachinethatgoesping/subprojects//echogrids/python/themachinethatgoesping/echogrids/functions/gridfunctions.py'>"
      ]
     },
     "execution_count": 6,
     "metadata": {},
     "output_type": "execute_result"
    }
   ],
   "source": [
    "import themachinethatgoesping.echogrids.functions as func\n",
    "func\n",
    "func.gridfunctions"
   ]
  },
  {
   "cell_type": "code",
   "execution_count": 7,
   "id": "110bcb0e-82ff-43e0-b2d1-25c891bac385",
   "metadata": {},
   "outputs": [
    {
     "data": {
      "text/plain": [
       "<module 'themachinethatgoesping.echogrids.functions.gridfunctions' from '/ssd/src/themachinethatgoesping/themachinethatgoesping/subprojects//echogrids/python/themachinethatgoesping/echogrids/functions/gridfunctions.py'>"
      ]
     },
     "execution_count": 7,
     "metadata": {},
     "output_type": "execute_result"
    }
   ],
   "source": [
    "import themachinethatgoesping.echogrids.functions.gridfunctions as gridfunctions\n",
    "gridfunctions"
   ]
  },
  {
   "cell_type": "code",
   "execution_count": null,
   "id": "4d6726af-1ec8-467f-a629-2f8e8eb1120a",
   "metadata": {},
   "outputs": [],
   "source": []
  },
  {
   "cell_type": "code",
   "execution_count": 8,
   "id": "e312e42c-d156-40e7-852c-4e7c155db0ec",
   "metadata": {},
   "outputs": [
    {
     "data": {
      "text/plain": [
       "<module 'themachinethatgoesping.echogrids' from '/ssd/src/themachinethatgoesping/themachinethatgoesping/subprojects//echogrids/python/themachinethatgoesping/echogrids/__init__.py'>"
      ]
     },
     "execution_count": 8,
     "metadata": {},
     "output_type": "execute_result"
    }
   ],
   "source": [
    "ping.echogrids"
   ]
  },
  {
   "cell_type": "code",
   "execution_count": 9,
   "id": "bf9a749b-f2de-4f74-a9fc-1774b0a104b6",
   "metadata": {},
   "outputs": [],
   "source": [
    "import themachinethatgoesping.echogrids"
   ]
  },
  {
   "cell_type": "code",
   "execution_count": 10,
   "id": "51c0d177-5c68-4cb5-9cff-0b9d4444d361",
   "metadata": {},
   "outputs": [
    {
     "data": {
      "text/plain": [
       "<module 'themachinethatgoesping.echogrids.functions' from '/ssd/src/themachinethatgoesping/themachinethatgoesping/subprojects//echogrids/python/themachinethatgoesping/echogrids/functions/__init__.py'>"
      ]
     },
     "execution_count": 10,
     "metadata": {},
     "output_type": "execute_result"
    }
   ],
   "source": [
    "ping.echogrids.functions"
   ]
  },
  {
   "cell_type": "code",
   "execution_count": 3,
   "id": "09b9dc52-c785-4e67-af90-b37c48c0740e",
   "metadata": {},
   "outputs": [
    {
     "name": "stdout",
     "output_type": "stream",
     "text": [
      "Help on package echogrids:\n",
      "\n",
      "NAME\n",
      "    echogrids\n",
      "\n",
      "PACKAGE CONTENTS\n",
      "    functions (package)\n",
      "\n",
      "FILE\n",
      "    /home/ssd/src/themachinethatgoesping/echogrids/python/themachinethatgoesping/echogrids/__init__.py\n",
      "\n",
      "\n"
     ]
    }
   ],
   "source": [
    "help(ping.echogrids)"
   ]
  },
  {
   "cell_type": "code",
   "execution_count": 4,
   "id": "30d0013b-e582-4486-84fc-f6ae0bba71c1",
   "metadata": {},
   "outputs": [
    {
     "name": "stdout",
     "output_type": "stream",
     "text": [
      "Help on package echogrids.functions in echogrids:\n",
      "\n",
      "NAME\n",
      "    echogrids.functions\n",
      "\n",
      "PACKAGE CONTENTS\n",
      "    gridfunctions\n",
      "    helperfunctions\n",
      "\n",
      "FILE\n",
      "    /home/ssd/src/themachinethatgoesping/echogrids/python/themachinethatgoesping/echogrids/functions/__init__.py\n",
      "\n",
      "\n"
     ]
    }
   ],
   "source": [
    "help(ping.echogrids.functions)"
   ]
  },
  {
   "cell_type": "code",
   "execution_count": 4,
   "id": "a0ad212f-6845-4504-89d9-de158075cb45",
   "metadata": {},
   "outputs": [
    {
     "name": "stdout",
     "output_type": "stream",
     "text": [
      "Help on module themachinethatgoesping.echogrids.functions.gridfunctions in themachinethatgoesping.echogrids.functions:\n",
      "\n",
      "NAME\n",
      "    themachinethatgoesping.echogrids.functions.gridfunctions - functions to create echogrids\n",
      "\n",
      "CLASSES\n",
      "    builtins.object\n",
      "        GRIDDER\n",
      "    \n",
      "    class GRIDDER(builtins.object)\n",
      "     |  GRIDDER(xres, yres, zres, min_x, max_x, min_y, max_y, min_z, max_z, xbase=None, ybase=None, zbase=None)\n",
      "     |  \n",
      "     |  Methods defined here:\n",
      "     |  \n",
      "     |  __init__(self, xres, yres, zres, min_x, max_x, min_y, max_y, min_z, max_z, xbase=None, ybase=None, zbase=None)\n",
      "     |      Initialize self.  See help(type(self)) for accurate signature.\n",
      "     |  \n",
      "     |  append_sampled_image(self, sx, sy, sz, s_val, imagesum, imagenum, skip_invalid=True)\n",
      "     |  \n",
      "     |  append_sampled_image2(self, sx, sy, sz, s_val, imagesum, imagenum, skip_invalid=True, extent=None)\n",
      "     |  \n",
      "     |  append_sampled_image_inv_dist(self, sx, sy, sz, s_val, imagesum, imagenum, skip_invalid=True, radius=None)\n",
      "     |  \n",
      "     |  get_extent_x(self)\n",
      "     |  \n",
      "     |  get_extent_y(self)\n",
      "     |  \n",
      "     |  get_extent_z(self)\n",
      "     |  \n",
      "     |  get_min_and_offset(self)\n",
      "     |  \n",
      "     |  get_sampled_image(self, sx, sy, sz, s_val, skip_invalid=True)\n",
      "     |  \n",
      "     |  get_sampled_image2(self, sx, sy, sz, s_val, skip_invalid=True, extent=None)\n",
      "     |  \n",
      "     |  get_x_coordinates(self)\n",
      "     |  \n",
      "     |  get_x_grd_value(self, value)\n",
      "     |  \n",
      "     |  get_x_index(self, val)\n",
      "     |  \n",
      "     |  get_x_index_fraction(self, val)\n",
      "     |  \n",
      "     |  get_x_value(self, index)\n",
      "     |  \n",
      "     |  get_y_coordinates(self)\n",
      "     |  \n",
      "     |  get_y_grd_value(self, value)\n",
      "     |  \n",
      "     |  get_y_index(self, val)\n",
      "     |  \n",
      "     |  get_y_index_fraction(self, val)\n",
      "     |  \n",
      "     |  get_y_value(self, index)\n",
      "     |  \n",
      "     |  get_z_coordinates(self)\n",
      "     |  \n",
      "     |  get_z_grd_value(self, value)\n",
      "     |  \n",
      "     |  get_z_index(self, val)\n",
      "     |  \n",
      "     |  get_z_index_fraction(self, val)\n",
      "     |  \n",
      "     |  get_z_value(self, index)\n",
      "     |  \n",
      "     |  ----------------------------------------------------------------------\n",
      "     |  Data descriptors defined here:\n",
      "     |  \n",
      "     |  __dict__\n",
      "     |      dictionary for instance variables (if defined)\n",
      "     |  \n",
      "     |  __weakref__\n",
      "     |      list of weak references to the object (if defined)\n",
      "\n",
      "FUNCTIONS\n",
      "    get_grd_value(value, grd_val_min, grd_res)\n",
      "    \n",
      "    get_index(val, grd_val_min, grd_res)\n",
      "    \n",
      "    get_index_fraction(val, grd_val_min, grd_res)\n",
      "    \n",
      "    get_index_vals(fraction_index_x: float, fraction_index_y: float, fraction_index_z: float) -> (<class 'numpy.ndarray'>, <class 'numpy.ndarray'>, <class 'numpy.ndarray'>, <class 'numpy.ndarray'>)\n",
      "        Return a vector with fraction and weights for the neighboring grid cells.\n",
      "        This allows for a linear interpolation (right?)\n",
      "        :param fraction_index_x: fractional x index (e.g 4.2)\n",
      "        :param fraction_index_y: fractional y index (e.g 4.2)\n",
      "        :param fraction_index_z: fractional z index (e.g 4.2)\n",
      "        :return: - vec X (x indices as int): all indices \"touched\" by the fractional point\n",
      "                 - vec Y (Y indices as int): all indices \"touched\" by the fractional point\n",
      "                 - vec Z (Z indices as int): all indices \"touched\" by the fractional point\n",
      "                 - vec Weights (Weights indices as int): weights\n",
      "    \n",
      "    get_index_vals2(fraction_index_x_min, fraction_index_x_max, fraction_index_y_min, fraction_index_y_max, fraction_index_z_min, fraction_index_z_max)\n",
      "    \n",
      "    get_index_vals2_sup(fraction_index_x_min, fraction_index_x_max)\n",
      "    \n",
      "    get_index_vals_inv_dist(x, xmin, xres, y, ymin, yres, z, zmin, zres, R)\n",
      "    \n",
      "    get_minmax(sx, sy, sz)\n",
      "    \n",
      "    get_sampled_image(sx, sy, sz, sv, xmin, xres, nx, ymin, yres, ny, zmin, zres, nz, imagenum, imagesum, skip_invalid=True)\n",
      "    \n",
      "    get_sampled_image2(sx, sy, sz, sv, xmin, xres, nx, ymin, yres, ny, zmin, zres, nz, imagenum, imagesum, extent=None, skip_invalid=True)\n",
      "    \n",
      "    get_sampled_image_inv_dist(sx, sy, sz, sv, xmin, xres, nx, ymin, yres, ny, zmin, zres, nz, imagenum, imagesum, radius, skip_invalid=True)\n",
      "    \n",
      "    get_value(index, grd_val_min, grd_res)\n",
      "\n",
      "FILE\n",
      "    /ssd/local/lib/python3.10/site-packages/themachinethatgoesping/echogrids/functions/gridfunctions.py\n",
      "\n",
      "\n"
     ]
    }
   ],
   "source": [
    "help(ping.echogrids.functions.gridfunctions)"
   ]
  },
  {
   "cell_type": "code",
   "execution_count": 5,
   "id": "dd3926bf-a47a-465f-aa66-c30630d37160",
   "metadata": {},
   "outputs": [],
   "source": [
    "import themachinethatgoesping.echogrids.functions as echo"
   ]
  },
  {
   "cell_type": "code",
   "execution_count": 8,
   "id": "f88c6eaa-ce6c-4f14-89d2-853cbf14647b",
   "metadata": {},
   "outputs": [
    {
     "ename": "NameError",
     "evalue": "name 'functions' is not defined",
     "output_type": "error",
     "traceback": [
      "\u001b[0;31m---------------------------------------------------------------------------\u001b[0m",
      "\u001b[0;31mNameError\u001b[0m                                 Traceback (most recent call last)",
      "Input \u001b[0;32mIn [8]\u001b[0m, in \u001b[0;36m<cell line: 1>\u001b[0;34m()\u001b[0m\n\u001b[0;32m----> 1\u001b[0m \u001b[43mfunctions\u001b[49m\n",
      "\u001b[0;31mNameError\u001b[0m: name 'functions' is not defined"
     ]
    }
   ],
   "source": [
    "functions"
   ]
  },
  {
   "cell_type": "code",
   "execution_count": null,
   "id": "44181c88-54f4-4dc9-92ec-f08eab0abddd",
   "metadata": {},
   "outputs": [],
   "source": []
  }
 ],
 "metadata": {
  "kernelspec": {
   "display_name": "Python 3 (ipykernel)",
   "language": "python",
   "name": "python3"
  },
  "language_info": {
   "codemirror_mode": {
    "name": "ipython",
    "version": 3
   },
   "file_extension": ".py",
   "mimetype": "text/x-python",
   "name": "python",
   "nbconvert_exporter": "python",
   "pygments_lexer": "ipython3",
   "version": "3.10.4"
  }
 },
 "nbformat": 4,
 "nbformat_minor": 5
}
