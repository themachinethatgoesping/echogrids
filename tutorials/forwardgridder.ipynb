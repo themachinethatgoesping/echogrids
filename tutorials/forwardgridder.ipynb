version https://git-lfs.github.com/spec/v1
oid sha256:d37cce85dc1576473516721fe4a72d8fa9146a2660e68b92cef82689a75e1e3d
size 871606
